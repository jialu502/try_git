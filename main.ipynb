{
 "cells": [
  {
   "cell_type": "code",
   "execution_count": 1,
   "metadata": {},
   "outputs": [],
   "source": [
    "%load_ext autoreload\n",
    "%autoreload 2\n",
    "\n",
    "import pandas as pd \n",
    "import numpy as np\n",
    "from pricer.barrier import Barrier"
   ]
  },
  {
   "cell_type": "markdown",
   "metadata": {},
   "source": [
    "# Initialize pricer"
   ]
  },
  {
   "cell_type": "code",
   "execution_count": 6,
   "metadata": {},
   "outputs": [],
   "source": [
    "pricer = Barrier(5.10, \"data/002027.xlsx\")"
   ]
  },
  {
   "cell_type": "markdown",
   "metadata": {},
   "source": [
    "# Generate underlying process"
   ]
  },
  {
   "cell_type": "code",
   "execution_count": 3,
   "metadata": {},
   "outputs": [
    {
     "output_type": "execute_result",
     "data": {
      "text/plain": "                0         1         2         3         4         5     \\\ndate                                                                     \n2019-01-03  5.100000  5.100000  5.100000  5.100000  5.100000  5.100000   \n2019-01-04  5.132714  5.069902  5.052788  5.002482  5.105265  5.174669   \n2019-01-07  5.243473  5.082532  5.068073  5.025289  5.107064  5.183351   \n2019-01-08  5.163596  5.040094  5.190563  5.098000  5.145351  5.243724   \n2019-01-09  5.136198  5.042103  5.313612  5.253883  5.121280  5.230688   \n\n                6         7         8         9     ...      9990      9991  \\\ndate                                                ...                       \n2019-01-03  5.100000  5.100000  5.100000  5.100000  ...  5.100000  5.100000   \n2019-01-04  5.134326  5.127226  5.032320  4.987335  ...  5.114592  5.119700   \n2019-01-07  5.081064  5.086223  5.032688  5.033239  ...  5.163453  5.039965   \n2019-01-08  5.159707  4.973208  4.951218  4.944515  ...  5.154769  5.103484   \n2019-01-09  5.286393  4.985823  4.937763  4.880720  ...  5.146477  5.193158   \n\n                9992      9993      9994      9995      9996      9997  \\\ndate                                                                     \n2019-01-03  5.100000  5.100000  5.100000  5.100000  5.100000  5.100000   \n2019-01-04  5.103962  5.160820  5.111217  5.114634  5.123631  5.061720   \n2019-01-07  5.075691  5.066548  5.045083  5.136858  5.113451  5.019654   \n2019-01-08  5.046558  5.169126  5.038587  5.120051  5.109712  5.126088   \n2019-01-09  5.055829  5.155671  5.041190  5.275415  5.169801  5.114986   \n\n                9998      9999  \ndate                            \n2019-01-03  5.100000  5.100000  \n2019-01-04  5.113600  5.085588  \n2019-01-07  5.139407  5.014374  \n2019-01-08  5.119985  5.024020  \n2019-01-09  4.992735  5.099494  \n\n[5 rows x 10000 columns]",
      "text/html": "<div>\n<style scoped>\n    .dataframe tbody tr th:only-of-type {\n        vertical-align: middle;\n    }\n\n    .dataframe tbody tr th {\n        vertical-align: top;\n    }\n\n    .dataframe thead th {\n        text-align: right;\n    }\n</style>\n<table border=\"1\" class=\"dataframe\">\n  <thead>\n    <tr style=\"text-align: right;\">\n      <th></th>\n      <th>0</th>\n      <th>1</th>\n      <th>2</th>\n      <th>3</th>\n      <th>4</th>\n      <th>5</th>\n      <th>6</th>\n      <th>7</th>\n      <th>8</th>\n      <th>9</th>\n      <th>...</th>\n      <th>9990</th>\n      <th>9991</th>\n      <th>9992</th>\n      <th>9993</th>\n      <th>9994</th>\n      <th>9995</th>\n      <th>9996</th>\n      <th>9997</th>\n      <th>9998</th>\n      <th>9999</th>\n    </tr>\n    <tr>\n      <th>date</th>\n      <th></th>\n      <th></th>\n      <th></th>\n      <th></th>\n      <th></th>\n      <th></th>\n      <th></th>\n      <th></th>\n      <th></th>\n      <th></th>\n      <th></th>\n      <th></th>\n      <th></th>\n      <th></th>\n      <th></th>\n      <th></th>\n      <th></th>\n      <th></th>\n      <th></th>\n      <th></th>\n      <th></th>\n    </tr>\n  </thead>\n  <tbody>\n    <tr>\n      <th>2019-01-03</th>\n      <td>5.100000</td>\n      <td>5.100000</td>\n      <td>5.100000</td>\n      <td>5.100000</td>\n      <td>5.100000</td>\n      <td>5.100000</td>\n      <td>5.100000</td>\n      <td>5.100000</td>\n      <td>5.100000</td>\n      <td>5.100000</td>\n      <td>...</td>\n      <td>5.100000</td>\n      <td>5.100000</td>\n      <td>5.100000</td>\n      <td>5.100000</td>\n      <td>5.100000</td>\n      <td>5.100000</td>\n      <td>5.100000</td>\n      <td>5.100000</td>\n      <td>5.100000</td>\n      <td>5.100000</td>\n    </tr>\n    <tr>\n      <th>2019-01-04</th>\n      <td>5.132714</td>\n      <td>5.069902</td>\n      <td>5.052788</td>\n      <td>5.002482</td>\n      <td>5.105265</td>\n      <td>5.174669</td>\n      <td>5.134326</td>\n      <td>5.127226</td>\n      <td>5.032320</td>\n      <td>4.987335</td>\n      <td>...</td>\n      <td>5.114592</td>\n      <td>5.119700</td>\n      <td>5.103962</td>\n      <td>5.160820</td>\n      <td>5.111217</td>\n      <td>5.114634</td>\n      <td>5.123631</td>\n      <td>5.061720</td>\n      <td>5.113600</td>\n      <td>5.085588</td>\n    </tr>\n    <tr>\n      <th>2019-01-07</th>\n      <td>5.243473</td>\n      <td>5.082532</td>\n      <td>5.068073</td>\n      <td>5.025289</td>\n      <td>5.107064</td>\n      <td>5.183351</td>\n      <td>5.081064</td>\n      <td>5.086223</td>\n      <td>5.032688</td>\n      <td>5.033239</td>\n      <td>...</td>\n      <td>5.163453</td>\n      <td>5.039965</td>\n      <td>5.075691</td>\n      <td>5.066548</td>\n      <td>5.045083</td>\n      <td>5.136858</td>\n      <td>5.113451</td>\n      <td>5.019654</td>\n      <td>5.139407</td>\n      <td>5.014374</td>\n    </tr>\n    <tr>\n      <th>2019-01-08</th>\n      <td>5.163596</td>\n      <td>5.040094</td>\n      <td>5.190563</td>\n      <td>5.098000</td>\n      <td>5.145351</td>\n      <td>5.243724</td>\n      <td>5.159707</td>\n      <td>4.973208</td>\n      <td>4.951218</td>\n      <td>4.944515</td>\n      <td>...</td>\n      <td>5.154769</td>\n      <td>5.103484</td>\n      <td>5.046558</td>\n      <td>5.169126</td>\n      <td>5.038587</td>\n      <td>5.120051</td>\n      <td>5.109712</td>\n      <td>5.126088</td>\n      <td>5.119985</td>\n      <td>5.024020</td>\n    </tr>\n    <tr>\n      <th>2019-01-09</th>\n      <td>5.136198</td>\n      <td>5.042103</td>\n      <td>5.313612</td>\n      <td>5.253883</td>\n      <td>5.121280</td>\n      <td>5.230688</td>\n      <td>5.286393</td>\n      <td>4.985823</td>\n      <td>4.937763</td>\n      <td>4.880720</td>\n      <td>...</td>\n      <td>5.146477</td>\n      <td>5.193158</td>\n      <td>5.055829</td>\n      <td>5.155671</td>\n      <td>5.041190</td>\n      <td>5.275415</td>\n      <td>5.169801</td>\n      <td>5.114986</td>\n      <td>4.992735</td>\n      <td>5.099494</td>\n    </tr>\n  </tbody>\n</table>\n<p>5 rows × 10000 columns</p>\n</div>"
     },
     "metadata": {},
     "execution_count": 3
    }
   ],
   "source": [
    "### 1. Geometric Brownian Motion\n",
    "gbm_data = pricer.geometric_brownian_motion(pricer.ul , 0.2  , 0.01 ,   \n",
    "                                        pricer.data.shape[0]-1, 252 , 10000)\n",
    "gbm_data = pd.DataFrame(gbm_data, index = pricer.data.index)\n",
    "gbm_data.head()"
   ]
  },
  {
   "cell_type": "markdown",
   "metadata": {
    "tags": [
     "outputPrepend",
     "outputPrepend",
     "outputPrepend",
     "outputPrepend",
     "outputPrepend",
     "outputPrepend",
     "outputPrepend",
     "outputPrepend",
     "outputPrepend",
     "outputPrepend",
     "outputPrepend",
     "outputPrepend",
     "outputPrepend",
     "outputPrepend",
     "outputPrepend",
     "outputPrepend",
     "outputPrepend",
     "outputPrepend",
     "outputPrepend",
     "outputPrepend",
     "outputPrepend",
     "outputPrepend",
     "outputPrepend",
     "outputPrepend",
     "outputPrepend",
     "outputPrepend",
     "outputPrepend",
     "outputPrepend",
     "outputPrepend",
     "outputPrepend",
     "outputPrepend",
     "outputPrepend",
     "outputPrepend",
     "outputPrepend",
     "outputPrepend",
     "outputPrepend",
     "outputPrepend",
     "outputPrepend",
     "outputPrepend",
     "outputPrepend",
     "outputPrepend",
     "outputPrepend",
     "outputPrepend"
    ]
   },
   "source": [
    "# Monte Carlo simulation"
   ]
  },
  {
   "cell_type": "code",
   "execution_count": 13,
   "metadata": {},
   "outputs": [],
   "source": [
    "premium_gbm = pricer.monto_carlo(gbm_data)"
   ]
  },
  {
   "cell_type": "code",
   "execution_count": 14,
   "metadata": {},
   "outputs": [
    {
     "output_type": "execute_result",
     "data": {
      "text/plain": "1.0607928257996289"
     },
     "metadata": {},
     "execution_count": 14
    }
   ],
   "source": [
    "premium_gbm"
   ]
  }
 ],
 "metadata": {
  "language_info": {
   "codemirror_mode": {
    "name": "ipython",
    "version": 3
   },
   "file_extension": ".py",
   "mimetype": "text/x-python",
   "name": "python",
   "nbconvert_exporter": "python",
   "pygments_lexer": "ipython3",
   "version": "3.6.5-final"
  },
  "orig_nbformat": 2,
  "kernelspec": {
   "name": "python36564bitc16502cca17f4cbf8460e88c90915368",
   "display_name": "Python 3.6.5 64-bit"
  }
 },
 "nbformat": 4,
 "nbformat_minor": 2
}