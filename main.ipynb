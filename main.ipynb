{
 "cells": [
  {
   "cell_type": "code",
   "execution_count": 1,
   "metadata": {},
   "outputs": [],
   "source": [
    "%load_ext autoreload\n",
    "%autoreload 2\n",
    "\n",
    "import pandas as pd \n",
    "import numpy as np\n",
    "from pricer.barrier import Barrier\n",
    "import pricer.underlying_process as underlying_process"
   ]
  },
  {
   "cell_type": "markdown",
   "metadata": {},
   "source": [
    "# Initialize pricer"
   ]
  },
  {
   "cell_type": "code",
   "execution_count": 2,
   "metadata": {},
   "outputs": [],
   "source": [
    "pricer = Barrier(5.10, \"data/002027.xlsx\")"
   ]
  },
  {
   "cell_type": "markdown",
   "metadata": {},
   "source": [
    "# Generate underlying process"
   ]
  },
  {
   "cell_type": "code",
   "execution_count": 11,
   "metadata": {},
   "outputs": [
    {
     "output_type": "execute_result",
     "data": {
      "text/plain": "                0         1         2         3         4         5     \\\ndate                                                                     \n2019-12-23  5.615767  4.896406  4.901048  5.986521  3.901565  3.357133   \n2019-12-24  5.584325  4.863446  4.879694  6.006308  3.932475  3.267094   \n2019-12-25  5.540730  4.832543  4.908957  6.160733  3.979268  3.290938   \n2019-12-26  5.513994  4.743588  4.891165  6.253742  3.922331  3.320575   \n2019-12-27  5.600645  4.603930  4.846022  6.343939  3.958261  3.354399   \n\n                6         7         8         9     ...      9990      9991  \\\ndate                                                ...                       \n2019-12-23  5.241180  5.578888  5.637452  6.800751  ...  6.114033  4.320363   \n2019-12-24  5.230743  5.678077  5.547358  6.932773  ...  6.049841  4.255022   \n2019-12-25  5.077736  5.462266  5.514988  6.998555  ...  6.061735  4.237991   \n2019-12-26  5.060545  5.461225  5.501332  7.006884  ...  6.174476  4.190154   \n2019-12-27  5.044969  5.440760  5.523748  6.977727  ...  6.147107  4.213111   \n\n                9992      9993      9994      9995      9996      9997  \\\ndate                                                                     \n2019-12-23  5.976095  5.158966  4.210191  3.302316  4.164299  4.207833   \n2019-12-24  5.939357  5.238507  4.271208  3.259191  4.170204  4.107733   \n2019-12-25  5.990605  5.173641  4.328022  3.298075  4.203392  4.140787   \n2019-12-26  5.917765  5.223153  4.330658  3.272387  4.234324  4.239145   \n2019-12-27  5.991395  5.201972  4.326670  3.281433  4.295723  4.350379   \n\n                9998      9999  \ndate                            \n2019-12-23  4.877191  4.385405  \n2019-12-24  4.891661  4.327647  \n2019-12-25  4.827557  4.382282  \n2019-12-26  4.739507  4.411695  \n2019-12-27  4.695275  4.423836  \n\n[5 rows x 10000 columns]",
      "text/html": "<div>\n<style scoped>\n    .dataframe tbody tr th:only-of-type {\n        vertical-align: middle;\n    }\n\n    .dataframe tbody tr th {\n        vertical-align: top;\n    }\n\n    .dataframe thead th {\n        text-align: right;\n    }\n</style>\n<table border=\"1\" class=\"dataframe\">\n  <thead>\n    <tr style=\"text-align: right;\">\n      <th></th>\n      <th>0</th>\n      <th>1</th>\n      <th>2</th>\n      <th>3</th>\n      <th>4</th>\n      <th>5</th>\n      <th>6</th>\n      <th>7</th>\n      <th>8</th>\n      <th>9</th>\n      <th>...</th>\n      <th>9990</th>\n      <th>9991</th>\n      <th>9992</th>\n      <th>9993</th>\n      <th>9994</th>\n      <th>9995</th>\n      <th>9996</th>\n      <th>9997</th>\n      <th>9998</th>\n      <th>9999</th>\n    </tr>\n    <tr>\n      <th>date</th>\n      <th></th>\n      <th></th>\n      <th></th>\n      <th></th>\n      <th></th>\n      <th></th>\n      <th></th>\n      <th></th>\n      <th></th>\n      <th></th>\n      <th></th>\n      <th></th>\n      <th></th>\n      <th></th>\n      <th></th>\n      <th></th>\n      <th></th>\n      <th></th>\n      <th></th>\n      <th></th>\n      <th></th>\n    </tr>\n  </thead>\n  <tbody>\n    <tr>\n      <th>2019-12-23</th>\n      <td>5.615767</td>\n      <td>4.896406</td>\n      <td>4.901048</td>\n      <td>5.986521</td>\n      <td>3.901565</td>\n      <td>3.357133</td>\n      <td>5.241180</td>\n      <td>5.578888</td>\n      <td>5.637452</td>\n      <td>6.800751</td>\n      <td>...</td>\n      <td>6.114033</td>\n      <td>4.320363</td>\n      <td>5.976095</td>\n      <td>5.158966</td>\n      <td>4.210191</td>\n      <td>3.302316</td>\n      <td>4.164299</td>\n      <td>4.207833</td>\n      <td>4.877191</td>\n      <td>4.385405</td>\n    </tr>\n    <tr>\n      <th>2019-12-24</th>\n      <td>5.584325</td>\n      <td>4.863446</td>\n      <td>4.879694</td>\n      <td>6.006308</td>\n      <td>3.932475</td>\n      <td>3.267094</td>\n      <td>5.230743</td>\n      <td>5.678077</td>\n      <td>5.547358</td>\n      <td>6.932773</td>\n      <td>...</td>\n      <td>6.049841</td>\n      <td>4.255022</td>\n      <td>5.939357</td>\n      <td>5.238507</td>\n      <td>4.271208</td>\n      <td>3.259191</td>\n      <td>4.170204</td>\n      <td>4.107733</td>\n      <td>4.891661</td>\n      <td>4.327647</td>\n    </tr>\n    <tr>\n      <th>2019-12-25</th>\n      <td>5.540730</td>\n      <td>4.832543</td>\n      <td>4.908957</td>\n      <td>6.160733</td>\n      <td>3.979268</td>\n      <td>3.290938</td>\n      <td>5.077736</td>\n      <td>5.462266</td>\n      <td>5.514988</td>\n      <td>6.998555</td>\n      <td>...</td>\n      <td>6.061735</td>\n      <td>4.237991</td>\n      <td>5.990605</td>\n      <td>5.173641</td>\n      <td>4.328022</td>\n      <td>3.298075</td>\n      <td>4.203392</td>\n      <td>4.140787</td>\n      <td>4.827557</td>\n      <td>4.382282</td>\n    </tr>\n    <tr>\n      <th>2019-12-26</th>\n      <td>5.513994</td>\n      <td>4.743588</td>\n      <td>4.891165</td>\n      <td>6.253742</td>\n      <td>3.922331</td>\n      <td>3.320575</td>\n      <td>5.060545</td>\n      <td>5.461225</td>\n      <td>5.501332</td>\n      <td>7.006884</td>\n      <td>...</td>\n      <td>6.174476</td>\n      <td>4.190154</td>\n      <td>5.917765</td>\n      <td>5.223153</td>\n      <td>4.330658</td>\n      <td>3.272387</td>\n      <td>4.234324</td>\n      <td>4.239145</td>\n      <td>4.739507</td>\n      <td>4.411695</td>\n    </tr>\n    <tr>\n      <th>2019-12-27</th>\n      <td>5.600645</td>\n      <td>4.603930</td>\n      <td>4.846022</td>\n      <td>6.343939</td>\n      <td>3.958261</td>\n      <td>3.354399</td>\n      <td>5.044969</td>\n      <td>5.440760</td>\n      <td>5.523748</td>\n      <td>6.977727</td>\n      <td>...</td>\n      <td>6.147107</td>\n      <td>4.213111</td>\n      <td>5.991395</td>\n      <td>5.201972</td>\n      <td>4.326670</td>\n      <td>3.281433</td>\n      <td>4.295723</td>\n      <td>4.350379</td>\n      <td>4.695275</td>\n      <td>4.423836</td>\n    </tr>\n  </tbody>\n</table>\n<p>5 rows × 10000 columns</p>\n</div>"
     },
     "metadata": {},
     "execution_count": 11
    }
   ],
   "source": [
    "### 1. Geometric Brownian Motion\n",
    "gbm_data = pricer.geometric_brownian_motion(pricer.ul , 0.2  , 0.01 ,   \n",
    "                                        pricer.data.shape[0]-1, 252 , 10000)\n",
    "gbm_data = pd.DataFrame(gbm_data, index = pricer.data.index)\n",
    "gbm_data.tail()"
   ]
  },
  {
   "cell_type": "markdown",
   "metadata": {
    "tags": [
     "outputPrepend",
     "outputPrepend",
     "outputPrepend",
     "outputPrepend",
     "outputPrepend",
     "outputPrepend",
     "outputPrepend",
     "outputPrepend",
     "outputPrepend",
     "outputPrepend",
     "outputPrepend",
     "outputPrepend",
     "outputPrepend",
     "outputPrepend",
     "outputPrepend",
     "outputPrepend",
     "outputPrepend",
     "outputPrepend",
     "outputPrepend",
     "outputPrepend",
     "outputPrepend",
     "outputPrepend",
     "outputPrepend",
     "outputPrepend",
     "outputPrepend",
     "outputPrepend",
     "outputPrepend",
     "outputPrepend",
     "outputPrepend",
     "outputPrepend",
     "outputPrepend",
     "outputPrepend",
     "outputPrepend",
     "outputPrepend",
     "outputPrepend",
     "outputPrepend",
     "outputPrepend",
     "outputPrepend",
     "outputPrepend",
     "outputPrepend",
     "outputPrepend",
     "outputPrepend",
     "outputPrepend"
    ]
   },
   "source": [
    "# Monte Carlo simulation"
   ]
  },
  {
   "cell_type": "code",
   "execution_count": 10,
   "metadata": {},
   "outputs": [
    {
     "output_type": "stream",
     "name": "stdout",
     "text": "1.059216500471248\n"
    }
   ],
   "source": [
    "premium_gbm = pricer.monto_carlo(gbm_data)\n",
    "print(premium_gbm)"
   ]
  }
 ],
 "metadata": {
  "language_info": {
   "codemirror_mode": {
    "name": "ipython",
    "version": 3
   },
   "file_extension": ".py",
   "mimetype": "text/x-python",
   "name": "python",
   "nbconvert_exporter": "python",
   "pygments_lexer": "ipython3",
   "version": "3.6.5-final"
  },
  "orig_nbformat": 2,
  "kernelspec": {
   "name": "python36564bitc16502cca17f4cbf8460e88c90915368",
   "display_name": "Python 3.6.5 64-bit"
  }
 },
 "nbformat": 4,
 "nbformat_minor": 2
}