{
 "cells": [
  {
   "cell_type": "code",
   "execution_count": 30,
   "metadata": {},
   "outputs": [
    {
     "output_type": "stream",
     "name": "stdout",
     "text": "The autoreload extension is already loaded. To reload it, use:\n  %reload_ext autoreload\n"
    }
   ],
   "source": [
    "%load_ext autoreload\n",
    "%autoreload 2\n",
    "\n",
    "import pandas as pd \n",
    "import numpy as np\n",
    "from pricer.barrier import Barrier"
   ]
  },
  {
   "cell_type": "code",
   "execution_count": 31,
   "metadata": {},
   "outputs": [],
   "source": [
    "# initialize pricer\n",
    "pricer = Barrier(5.10, \"data/002027.xlsx\")"
   ]
  },
  {
   "cell_type": "code",
   "execution_count": 32,
   "metadata": {},
   "outputs": [
    {
     "output_type": "execute_result",
     "data": {
      "text/plain": "                0         1         2         3         4         5     \\\ndate                                                                     \n2019-01-03  5.100000  5.100000  5.100000  5.100000  5.100000  5.100000   \n2019-01-04  4.984822  5.082421  5.080793  5.018932  5.081530  5.118486   \n2019-01-07  5.013209  5.108196  5.132736  4.999489  4.991715  5.137705   \n2019-01-08  5.222375  5.141679  5.152987  5.038016  5.036258  5.156519   \n2019-01-09  5.239446  5.075855  5.229658  5.052205  5.021881  5.174923   \n\n                6         7         8         9     ...      9990      9991  \\\ndate                                                ...                       \n2019-01-03  5.100000  5.100000  5.100000  5.100000  ...  5.100000  5.100000   \n2019-01-04  5.088489  5.101812  5.094402  5.067528  ...  5.088545  5.046495   \n2019-01-07  5.056135  5.009288  5.046199  5.183800  ...  4.979470  5.098467   \n2019-01-08  5.064575  4.932857  5.071778  5.262932  ...  5.002911  5.038158   \n2019-01-09  5.016010  4.880728  5.044205  5.262277  ...  4.894549  5.024726   \n\n                9992      9993      9994      9995      9996      9997  \\\ndate                                                                     \n2019-01-03  5.100000  5.100000  5.100000  5.100000  5.100000  5.100000   \n2019-01-04  5.152985  5.107231  5.014621  5.191344  5.087412  5.062332   \n2019-01-07  5.165630  5.106215  4.959268  5.074838  5.157660  5.113630   \n2019-01-08  5.101806  5.126541  4.916516  5.152526  5.228410  5.135261   \n2019-01-09  5.114273  5.171919  4.929988  5.086631  5.307172  5.165903   \n\n                9998      9999  \ndate                            \n2019-01-03  5.100000  5.100000  \n2019-01-04  5.070639  5.122033  \n2019-01-07  5.147509  5.191083  \n2019-01-08  5.237054  5.016406  \n2019-01-09  5.307931  4.945742  \n\n[5 rows x 10000 columns]",
      "text/html": "<div>\n<style scoped>\n    .dataframe tbody tr th:only-of-type {\n        vertical-align: middle;\n    }\n\n    .dataframe tbody tr th {\n        vertical-align: top;\n    }\n\n    .dataframe thead th {\n        text-align: right;\n    }\n</style>\n<table border=\"1\" class=\"dataframe\">\n  <thead>\n    <tr style=\"text-align: right;\">\n      <th></th>\n      <th>0</th>\n      <th>1</th>\n      <th>2</th>\n      <th>3</th>\n      <th>4</th>\n      <th>5</th>\n      <th>6</th>\n      <th>7</th>\n      <th>8</th>\n      <th>9</th>\n      <th>...</th>\n      <th>9990</th>\n      <th>9991</th>\n      <th>9992</th>\n      <th>9993</th>\n      <th>9994</th>\n      <th>9995</th>\n      <th>9996</th>\n      <th>9997</th>\n      <th>9998</th>\n      <th>9999</th>\n    </tr>\n    <tr>\n      <th>date</th>\n      <th></th>\n      <th></th>\n      <th></th>\n      <th></th>\n      <th></th>\n      <th></th>\n      <th></th>\n      <th></th>\n      <th></th>\n      <th></th>\n      <th></th>\n      <th></th>\n      <th></th>\n      <th></th>\n      <th></th>\n      <th></th>\n      <th></th>\n      <th></th>\n      <th></th>\n      <th></th>\n      <th></th>\n    </tr>\n  </thead>\n  <tbody>\n    <tr>\n      <th>2019-01-03</th>\n      <td>5.100000</td>\n      <td>5.100000</td>\n      <td>5.100000</td>\n      <td>5.100000</td>\n      <td>5.100000</td>\n      <td>5.100000</td>\n      <td>5.100000</td>\n      <td>5.100000</td>\n      <td>5.100000</td>\n      <td>5.100000</td>\n      <td>...</td>\n      <td>5.100000</td>\n      <td>5.100000</td>\n      <td>5.100000</td>\n      <td>5.100000</td>\n      <td>5.100000</td>\n      <td>5.100000</td>\n      <td>5.100000</td>\n      <td>5.100000</td>\n      <td>5.100000</td>\n      <td>5.100000</td>\n    </tr>\n    <tr>\n      <th>2019-01-04</th>\n      <td>4.984822</td>\n      <td>5.082421</td>\n      <td>5.080793</td>\n      <td>5.018932</td>\n      <td>5.081530</td>\n      <td>5.118486</td>\n      <td>5.088489</td>\n      <td>5.101812</td>\n      <td>5.094402</td>\n      <td>5.067528</td>\n      <td>...</td>\n      <td>5.088545</td>\n      <td>5.046495</td>\n      <td>5.152985</td>\n      <td>5.107231</td>\n      <td>5.014621</td>\n      <td>5.191344</td>\n      <td>5.087412</td>\n      <td>5.062332</td>\n      <td>5.070639</td>\n      <td>5.122033</td>\n    </tr>\n    <tr>\n      <th>2019-01-07</th>\n      <td>5.013209</td>\n      <td>5.108196</td>\n      <td>5.132736</td>\n      <td>4.999489</td>\n      <td>4.991715</td>\n      <td>5.137705</td>\n      <td>5.056135</td>\n      <td>5.009288</td>\n      <td>5.046199</td>\n      <td>5.183800</td>\n      <td>...</td>\n      <td>4.979470</td>\n      <td>5.098467</td>\n      <td>5.165630</td>\n      <td>5.106215</td>\n      <td>4.959268</td>\n      <td>5.074838</td>\n      <td>5.157660</td>\n      <td>5.113630</td>\n      <td>5.147509</td>\n      <td>5.191083</td>\n    </tr>\n    <tr>\n      <th>2019-01-08</th>\n      <td>5.222375</td>\n      <td>5.141679</td>\n      <td>5.152987</td>\n      <td>5.038016</td>\n      <td>5.036258</td>\n      <td>5.156519</td>\n      <td>5.064575</td>\n      <td>4.932857</td>\n      <td>5.071778</td>\n      <td>5.262932</td>\n      <td>...</td>\n      <td>5.002911</td>\n      <td>5.038158</td>\n      <td>5.101806</td>\n      <td>5.126541</td>\n      <td>4.916516</td>\n      <td>5.152526</td>\n      <td>5.228410</td>\n      <td>5.135261</td>\n      <td>5.237054</td>\n      <td>5.016406</td>\n    </tr>\n    <tr>\n      <th>2019-01-09</th>\n      <td>5.239446</td>\n      <td>5.075855</td>\n      <td>5.229658</td>\n      <td>5.052205</td>\n      <td>5.021881</td>\n      <td>5.174923</td>\n      <td>5.016010</td>\n      <td>4.880728</td>\n      <td>5.044205</td>\n      <td>5.262277</td>\n      <td>...</td>\n      <td>4.894549</td>\n      <td>5.024726</td>\n      <td>5.114273</td>\n      <td>5.171919</td>\n      <td>4.929988</td>\n      <td>5.086631</td>\n      <td>5.307172</td>\n      <td>5.165903</td>\n      <td>5.307931</td>\n      <td>4.945742</td>\n    </tr>\n  </tbody>\n</table>\n<p>5 rows × 10000 columns</p>\n</div>"
     },
     "metadata": {},
     "execution_count": 32
    }
   ],
   "source": [
    "### generate underlying process\n",
    "### 1. Geometric Brownian Motion\n",
    "gbm_data = pricer.geometric_brownian_motion(pricer.ul , 0.2  , 0.01 ,   \n",
    "                                        pricer.data.shape[0]-1, 252 , 10000)\n",
    "gbm_data = pd.DataFrame(gbm_data, index = pricer.data.index)\n",
    "gbm_data.head()"
   ]
  }
 ],
 "metadata": {
  "language_info": {
   "codemirror_mode": {
    "name": "ipython",
    "version": 3
   },
   "file_extension": ".py",
   "mimetype": "text/x-python",
   "name": "python",
   "nbconvert_exporter": "python",
   "pygments_lexer": "ipython3",
   "version": "3.6.5-final"
  },
  "orig_nbformat": 2,
  "kernelspec": {
   "name": "python36564bitc16502cca17f4cbf8460e88c90915368",
   "display_name": "Python 3.6.5 64-bit"
  }
 },
 "nbformat": 4,
 "nbformat_minor": 2
}