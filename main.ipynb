{
 "cells": [
  {
   "cell_type": "code",
   "execution_count": 1,
   "metadata": {},
   "outputs": [],
   "source": [
    "%load_ext autoreload\n",
    "%autoreload 2\n",
    "\n",
    "import pandas as pd \n",
    "import numpy as np\n",
    "from pricer.barrier import Barrier"
   ]
  },
  {
   "cell_type": "markdown",
   "metadata": {},
   "source": [
    "# Initialize pricer"
   ]
  },
  {
   "cell_type": "code",
   "execution_count": 2,
   "metadata": {},
   "outputs": [],
   "source": [
    "pricer = Barrier(5.10, \"data/002027.xlsx\")"
   ]
  },
  {
   "cell_type": "markdown",
   "metadata": {},
   "source": [
    "# Generate underlying process"
   ]
  },
  {
   "cell_type": "code",
   "execution_count": 6,
   "metadata": {},
   "outputs": [
    {
     "output_type": "execute_result",
     "data": {
      "text/plain": "                0         1         2         3         4         5     \\\ndate                                                                     \n2019-01-03  5.100000  5.100000  5.100000  5.100000  5.100000  5.100000   \n2019-01-04  5.062564  5.193348  4.969926  5.096089  5.077524  5.065747   \n2019-01-07  5.114756  5.157974  4.953422  5.104711  4.989411  5.104639   \n2019-01-08  5.120325  5.029867  4.962452  5.083993  4.898913  5.155706   \n2019-01-09  5.109833  5.025623  4.983689  5.060670  4.869766  5.109960   \n\n                6         7         8         9     ...      9990      9991  \\\ndate                                                ...                       \n2019-01-03  5.100000  5.100000  5.100000  5.100000  ...  5.100000  5.100000   \n2019-01-04  4.986957  4.997639  5.139355  5.015046  ...  5.063736  5.103710   \n2019-01-07  5.131612  4.921341  5.150166  5.037936  ...  5.016434  4.943549   \n2019-01-08  5.055853  4.909869  5.178061  5.065228  ...  5.032897  4.946870   \n2019-01-09  5.092041  4.964760  5.225938  5.027671  ...  5.096549  4.983113   \n\n                9992      9993      9994      9995      9996      9997  \\\ndate                                                                     \n2019-01-03  5.100000  5.100000  5.100000  5.100000  5.100000  5.100000   \n2019-01-04  5.066204  5.133182  5.140245  5.015741  5.088966  5.109441   \n2019-01-07  5.138465  5.050460  5.165358  4.948638  5.112621  5.200735   \n2019-01-08  5.114881  5.005080  5.357935  4.876443  5.186342  5.243969   \n2019-01-09  5.135276  4.892441  5.370766  4.911062  5.215174  5.269360   \n\n                9998      9999  \ndate                            \n2019-01-03  5.100000  5.100000  \n2019-01-04  5.094314  5.052619  \n2019-01-07  5.097988  5.096495  \n2019-01-08  5.204556  5.107473  \n2019-01-09  5.262713  5.176227  \n\n[5 rows x 10000 columns]",
      "text/html": "<div>\n<style scoped>\n    .dataframe tbody tr th:only-of-type {\n        vertical-align: middle;\n    }\n\n    .dataframe tbody tr th {\n        vertical-align: top;\n    }\n\n    .dataframe thead th {\n        text-align: right;\n    }\n</style>\n<table border=\"1\" class=\"dataframe\">\n  <thead>\n    <tr style=\"text-align: right;\">\n      <th></th>\n      <th>0</th>\n      <th>1</th>\n      <th>2</th>\n      <th>3</th>\n      <th>4</th>\n      <th>5</th>\n      <th>6</th>\n      <th>7</th>\n      <th>8</th>\n      <th>9</th>\n      <th>...</th>\n      <th>9990</th>\n      <th>9991</th>\n      <th>9992</th>\n      <th>9993</th>\n      <th>9994</th>\n      <th>9995</th>\n      <th>9996</th>\n      <th>9997</th>\n      <th>9998</th>\n      <th>9999</th>\n    </tr>\n    <tr>\n      <th>date</th>\n      <th></th>\n      <th></th>\n      <th></th>\n      <th></th>\n      <th></th>\n      <th></th>\n      <th></th>\n      <th></th>\n      <th></th>\n      <th></th>\n      <th></th>\n      <th></th>\n      <th></th>\n      <th></th>\n      <th></th>\n      <th></th>\n      <th></th>\n      <th></th>\n      <th></th>\n      <th></th>\n      <th></th>\n    </tr>\n  </thead>\n  <tbody>\n    <tr>\n      <th>2019-01-03</th>\n      <td>5.100000</td>\n      <td>5.100000</td>\n      <td>5.100000</td>\n      <td>5.100000</td>\n      <td>5.100000</td>\n      <td>5.100000</td>\n      <td>5.100000</td>\n      <td>5.100000</td>\n      <td>5.100000</td>\n      <td>5.100000</td>\n      <td>...</td>\n      <td>5.100000</td>\n      <td>5.100000</td>\n      <td>5.100000</td>\n      <td>5.100000</td>\n      <td>5.100000</td>\n      <td>5.100000</td>\n      <td>5.100000</td>\n      <td>5.100000</td>\n      <td>5.100000</td>\n      <td>5.100000</td>\n    </tr>\n    <tr>\n      <th>2019-01-04</th>\n      <td>5.062564</td>\n      <td>5.193348</td>\n      <td>4.969926</td>\n      <td>5.096089</td>\n      <td>5.077524</td>\n      <td>5.065747</td>\n      <td>4.986957</td>\n      <td>4.997639</td>\n      <td>5.139355</td>\n      <td>5.015046</td>\n      <td>...</td>\n      <td>5.063736</td>\n      <td>5.103710</td>\n      <td>5.066204</td>\n      <td>5.133182</td>\n      <td>5.140245</td>\n      <td>5.015741</td>\n      <td>5.088966</td>\n      <td>5.109441</td>\n      <td>5.094314</td>\n      <td>5.052619</td>\n    </tr>\n    <tr>\n      <th>2019-01-07</th>\n      <td>5.114756</td>\n      <td>5.157974</td>\n      <td>4.953422</td>\n      <td>5.104711</td>\n      <td>4.989411</td>\n      <td>5.104639</td>\n      <td>5.131612</td>\n      <td>4.921341</td>\n      <td>5.150166</td>\n      <td>5.037936</td>\n      <td>...</td>\n      <td>5.016434</td>\n      <td>4.943549</td>\n      <td>5.138465</td>\n      <td>5.050460</td>\n      <td>5.165358</td>\n      <td>4.948638</td>\n      <td>5.112621</td>\n      <td>5.200735</td>\n      <td>5.097988</td>\n      <td>5.096495</td>\n    </tr>\n    <tr>\n      <th>2019-01-08</th>\n      <td>5.120325</td>\n      <td>5.029867</td>\n      <td>4.962452</td>\n      <td>5.083993</td>\n      <td>4.898913</td>\n      <td>5.155706</td>\n      <td>5.055853</td>\n      <td>4.909869</td>\n      <td>5.178061</td>\n      <td>5.065228</td>\n      <td>...</td>\n      <td>5.032897</td>\n      <td>4.946870</td>\n      <td>5.114881</td>\n      <td>5.005080</td>\n      <td>5.357935</td>\n      <td>4.876443</td>\n      <td>5.186342</td>\n      <td>5.243969</td>\n      <td>5.204556</td>\n      <td>5.107473</td>\n    </tr>\n    <tr>\n      <th>2019-01-09</th>\n      <td>5.109833</td>\n      <td>5.025623</td>\n      <td>4.983689</td>\n      <td>5.060670</td>\n      <td>4.869766</td>\n      <td>5.109960</td>\n      <td>5.092041</td>\n      <td>4.964760</td>\n      <td>5.225938</td>\n      <td>5.027671</td>\n      <td>...</td>\n      <td>5.096549</td>\n      <td>4.983113</td>\n      <td>5.135276</td>\n      <td>4.892441</td>\n      <td>5.370766</td>\n      <td>4.911062</td>\n      <td>5.215174</td>\n      <td>5.269360</td>\n      <td>5.262713</td>\n      <td>5.176227</td>\n    </tr>\n  </tbody>\n</table>\n<p>5 rows × 10000 columns</p>\n</div>"
     },
     "metadata": {},
     "execution_count": 6
    }
   ],
   "source": [
    "### 1. Geometric Brownian Motion\n",
    "gbm_data = pricer.geometric_brownian_motion(pricer.ul , 0.2  , 0.01 ,   \n",
    "                                        pricer.data.shape[0]-1, 252 , 10000)\n",
    "gbm_data = pd.DataFrame(gbm_data, index = pricer.data.index)\n",
    "gbm_data.head()"
   ]
  },
  {
   "cell_type": "markdown",
   "metadata": {
    "tags": [
     "outputPrepend",
     "outputPrepend",
     "outputPrepend",
     "outputPrepend",
     "outputPrepend",
     "outputPrepend",
     "outputPrepend",
     "outputPrepend",
     "outputPrepend",
     "outputPrepend",
     "outputPrepend",
     "outputPrepend",
     "outputPrepend",
     "outputPrepend",
     "outputPrepend",
     "outputPrepend",
     "outputPrepend",
     "outputPrepend",
     "outputPrepend",
     "outputPrepend",
     "outputPrepend",
     "outputPrepend",
     "outputPrepend",
     "outputPrepend",
     "outputPrepend",
     "outputPrepend",
     "outputPrepend",
     "outputPrepend",
     "outputPrepend",
     "outputPrepend",
     "outputPrepend",
     "outputPrepend",
     "outputPrepend",
     "outputPrepend",
     "outputPrepend",
     "outputPrepend",
     "outputPrepend",
     "outputPrepend",
     "outputPrepend",
     "outputPrepend",
     "outputPrepend",
     "outputPrepend",
     "outputPrepend"
    ]
   },
   "source": [
    "# Monte Carlo simulation"
   ]
  },
  {
   "cell_type": "code",
   "execution_count": 8,
   "metadata": {},
   "outputs": [
    {
     "output_type": "stream",
     "name": "stdout",
     "text": "1.0602464692880966\n"
    }
   ],
   "source": [
    "premium_gbm = pricer.monto_carlo(gbm_data)\n",
    "print(premium_gbm)"
   ]
  }
 ],
 "metadata": {
  "language_info": {
   "codemirror_mode": {
    "name": "ipython",
    "version": 3
   },
   "file_extension": ".py",
   "mimetype": "text/x-python",
   "name": "python",
   "nbconvert_exporter": "python",
   "pygments_lexer": "ipython3",
   "version": "3.6.5-final"
  },
  "orig_nbformat": 2,
  "kernelspec": {
   "name": "python36564bitc16502cca17f4cbf8460e88c90915368",
   "display_name": "Python 3.6.5 64-bit"
  }
 },
 "nbformat": 4,
 "nbformat_minor": 2
}